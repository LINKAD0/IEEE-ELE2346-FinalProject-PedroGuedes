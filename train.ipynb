{
 "cells": [
  {
   "cell_type": "code",
   "execution_count": 1,
   "metadata": {},
   "outputs": [
    {
     "name": "stderr",
     "output_type": "stream",
     "text": [
      "Ultralytics YOLOv8.0.31  Python-3.8.10 torch-1.13.1+cu117 CUDA:0 (NVIDIA GeForce RTX 3060, 12287MiB)\n",
      "\u001b[34m\u001b[1myolo\\engine\\trainer: \u001b[0mtask=detect, mode=train, model=yolov8n.yaml, data=F:/Pedro/YOLOv8/My_Code/TCC_dataset_config.yaml, epochs=1, patience=50, batch=16, imgsz=640, save=True, cache=False, device=None, workers=8, project=None, name=testing new dataset, exist_ok=False, pretrained=False, optimizer=SGD, verbose=True, seed=0, deterministic=True, single_cls=False, image_weights=False, rect=False, cos_lr=False, close_mosaic=10, resume=False, min_memory=False, overlap_mask=True, mask_ratio=4, dropout=False, val=True, save_json=False, save_hybrid=False, conf=0.001, iou=0.7, max_det=300, half=False, dnn=False, plots=True, source=ultralytics/assets/, show=False, save_txt=False, save_conf=False, save_crop=False, hide_labels=False, hide_conf=False, vid_stride=1, line_thickness=3, visualize=False, augment=False, agnostic_nms=False, classes=None, retina_masks=False, boxes=True, format=torchscript, keras=False, optimize=False, int8=False, dynamic=False, simplify=False, opset=17, workspace=4, nms=False, lr0=0.01, lrf=0.01, momentum=0.937, weight_decay=0.001, warmup_epochs=3.0, warmup_momentum=0.8, warmup_bias_lr=0.1, box=7.5, cls=0.5, dfl=1.5, fl_gamma=0.0, label_smoothing=0.0, nbs=64, hsv_h=0.015, hsv_s=0.7, hsv_v=0.4, degrees=0.0, translate=0.1, scale=0.5, shear=0.0, perspective=0.0, flipud=0.0, fliplr=0.5, mosaic=1.0, mixup=0.0, copy_paste=0.0, cfg=None, v5loader=False, save_dir=runs\\detect\\testing new dataset3\n",
      "Overriding model.yaml nc=80 with nc=9\n",
      "\n",
      "                   from  n    params  module                                       arguments                     \n",
      "  0                  -1  1       464  ultralytics.nn.modules.Conv                  [3, 16, 3, 2]                 \n",
      "  1                  -1  1      4672  ultralytics.nn.modules.Conv                  [16, 32, 3, 2]                \n",
      "  2                  -1  1      7360  ultralytics.nn.modules.C2f                   [32, 32, 1, True]             \n",
      "  3                  -1  1     18560  ultralytics.nn.modules.Conv                  [32, 64, 3, 2]                \n",
      "  4                  -1  2     49664  ultralytics.nn.modules.C2f                   [64, 64, 2, True]             \n",
      "  5                  -1  1     73984  ultralytics.nn.modules.Conv                  [64, 128, 3, 2]               \n",
      "  6                  -1  2    197632  ultralytics.nn.modules.C2f                   [128, 128, 2, True]           \n",
      "  7                  -1  1    295424  ultralytics.nn.modules.Conv                  [128, 256, 3, 2]              \n",
      "  8                  -1  1    460288  ultralytics.nn.modules.C2f                   [256, 256, 1, True]           \n",
      "  9                  -1  1    164608  ultralytics.nn.modules.SPPF                  [256, 256, 5]                 \n",
      " 10                  -1  1         0  torch.nn.modules.upsampling.Upsample         [None, 2, 'nearest']          \n",
      " 11             [-1, 6]  1         0  ultralytics.nn.modules.Concat                [1]                           \n",
      " 12                  -1  1    148224  ultralytics.nn.modules.C2f                   [384, 128, 1]                 \n",
      " 13                  -1  1         0  torch.nn.modules.upsampling.Upsample         [None, 2, 'nearest']          \n",
      " 14             [-1, 4]  1         0  ultralytics.nn.modules.Concat                [1]                           \n",
      " 15                  -1  1     37248  ultralytics.nn.modules.C2f                   [192, 64, 1]                  \n",
      " 16                  -1  1     36992  ultralytics.nn.modules.Conv                  [64, 64, 3, 2]                \n",
      " 17            [-1, 12]  1         0  ultralytics.nn.modules.Concat                [1]                           \n",
      " 18                  -1  1    123648  ultralytics.nn.modules.C2f                   [192, 128, 1]                 \n",
      " 19                  -1  1    147712  ultralytics.nn.modules.Conv                  [128, 128, 3, 2]              \n",
      " 20             [-1, 9]  1         0  ultralytics.nn.modules.Concat                [1]                           \n",
      " 21                  -1  1    493056  ultralytics.nn.modules.C2f                   [384, 256, 1]                 \n",
      " 22        [15, 18, 21]  1    753067  ultralytics.nn.modules.Detect                [9, [64, 128, 256]]           \n",
      "Model summary: 225 layers, 3012603 parameters, 3012587 gradients, 8.2 GFLOPs\n",
      "\n",
      "Transferred 319/355 items from pretrained weights\n",
      "\u001b[34m\u001b[1moptimizer:\u001b[0m SGD(lr=0.01) with parameter groups 57 weight(decay=0.0), 64 weight(decay=0.001), 63 bias\n",
      "\u001b[34m\u001b[1mtrain: \u001b[0mScanning F:\\Pedro\\YOLOv8\\My_Code\\datasets\\dataset_3ch_trees_removed\\labels\\train... 640 images, 387 backgrounds, 0 corrupt: 100%|██████████| 640/640 [00:01<00:00, 352.10it/s]\n",
      "\u001b[34m\u001b[1mtrain: \u001b[0mNew cache created: F:\\Pedro\\YOLOv8\\My_Code\\datasets\\dataset_3ch_trees_removed\\labels\\train.cache\n",
      "\u001b[34m\u001b[1malbumentations: \u001b[0mBlur(p=0.01, blur_limit=(3, 7)), MedianBlur(p=0.01, blur_limit=(3, 7)), ToGray(p=0.01), CLAHE(p=0.01, clip_limit=(1, 4.0), tile_grid_size=(8, 8))\n",
      "\u001b[34m\u001b[1mval: \u001b[0mScanning F:\\Pedro\\YOLOv8\\My_Code\\datasets\\dataset_3ch_trees_removed\\labels\\val... 100 images, 86 backgrounds, 0 corrupt: 100%|██████████| 100/100 [00:00<00:00, 393.83it/s]\n",
      "\u001b[34m\u001b[1mval: \u001b[0mNew cache created: F:\\Pedro\\YOLOv8\\My_Code\\datasets\\dataset_3ch_trees_removed\\labels\\val.cache\n",
      "Image sizes 640 train, 640 val\n",
      "Using 8 dataloader workers\n",
      "Logging results to \u001b[1mruns\\detect\\testing new dataset3\u001b[0m\n",
      "Starting training for 1 epochs...\n",
      "\n",
      "      Epoch    GPU_mem   box_loss   cls_loss   dfl_loss  Instances       Size\n",
      "        1/1      2.17G       1.47      5.273      1.533         24        640: 100%|██████████| 40/40 [00:15<00:00,  2.63it/s]\n",
      "                 Class     Images  Instances      Box(P          R      mAP50  mAP50-95): 100%|██████████| 4/4 [00:13<00:00,  3.27s/it]\n",
      "                   all        100         29    0.00125      0.528      0.105     0.0746\n",
      "\n",
      "1 epochs completed in 0.030 hours.\n",
      "Optimizer stripped from runs\\detect\\testing new dataset3\\weights\\last.pt, 6.2MB\n",
      "Optimizer stripped from runs\\detect\\testing new dataset3\\weights\\best.pt, 6.2MB\n",
      "\n",
      "Validating runs\\detect\\testing new dataset3\\weights\\best.pt...\n",
      "Ultralytics YOLOv8.0.31  Python-3.8.10 torch-1.13.1+cu117 CUDA:0 (NVIDIA GeForce RTX 3060, 12287MiB)\n",
      "Model summary (fused): 168 layers, 3007403 parameters, 0 gradients, 8.1 GFLOPs\n",
      "                 Class     Images  Instances      Box(P          R      mAP50  mAP50-95): 100%|██████████| 4/4 [00:12<00:00,  3.23s/it]\n",
      "                   all        100         29    0.00125      0.528      0.106     0.0753\n",
      "    Terminalia catappa        100         12    0.00134          1      0.409      0.327\n",
      "            Ficus spp.        100          3    0.00299      0.667      0.104     0.0663\n",
      "     Handroanthus spp.        100          6          0          0          0          0\n",
      "      Pachira aquatica        100          3    0.00144          1     0.0728     0.0529\n",
      "     Licania tomentosa        100          4    0.00172        0.5     0.0502    0.00572\n",
      "          Senna siamea        100          1          0          0          0          0\n",
      "Speed: 2.9ms pre-process, 3.8ms inference, 0.0ms loss, 5.2ms post-process per image\n",
      "Results saved to \u001b[1mruns\\detect\\testing new dataset3\u001b[0m\n",
      "Ultralytics YOLOv8.0.31  Python-3.8.10 torch-1.13.1+cu117 CUDA:0 (NVIDIA GeForce RTX 3060, 12287MiB)\n",
      "Model summary (fused): 168 layers, 3007403 parameters, 0 gradients, 8.1 GFLOPs\n",
      "\u001b[34m\u001b[1mval: \u001b[0mScanning F:\\Pedro\\YOLOv8\\My_Code\\datasets\\dataset_3ch_trees_removed\\labels\\val.cache... 100 images, 86 backgrounds, 0 corrupt: 100%|██████████| 100/100 [00:00<?, ?it/s]\n",
      "                 Class     Images  Instances      Box(P          R      mAP50  mAP50-95): 100%|██████████| 7/7 [00:12<00:00,  1.81s/it]\n",
      "                   all        100         29    0.00125      0.528      0.106     0.0754\n",
      "    Terminalia catappa        100         12    0.00135          1      0.409      0.327\n",
      "            Ficus spp.        100          3    0.00299      0.667      0.104     0.0663\n",
      "     Handroanthus spp.        100          6          0          0          0          0\n",
      "      Pachira aquatica        100          3    0.00145          1     0.0733     0.0533\n",
      "     Licania tomentosa        100          4    0.00172        0.5     0.0502    0.00572\n",
      "          Senna siamea        100          1          0          0          0          0\n",
      "Speed: 2.3ms pre-process, 5.2ms inference, 0.0ms loss, 6.3ms post-process per image\n"
     ]
    }
   ],
   "source": [
    "from ultralytics import YOLO\n",
    "\n",
    "\n",
    "#model = YOLO('yolov8n.yaml')  # build a new model from scratch\n",
    "model = YOLO('yolov8n.pt')  # load a pretrained model (recommended for training)\n",
    "\n",
    "# Use the model\n",
    "#results = model.train(data='F:/Pedro/YOLOv8/My_Code/TCC_dataset_config.yaml', epochs=1, name= \"testing new dataset\")  # train the model\n",
    "results = model.train(data='F:/Pedro/YOLOv8/My_Code/TCC_dataset_config.yaml', epochs=500, name=\"train_final\")  # train the model\n",
    "results = model.val()  # evaluate model performance on the validation set"
   ]
  },
  {
   "cell_type": "code",
   "execution_count": null,
   "metadata": {},
   "outputs": [
    {
     "name": "stderr",
     "output_type": "stream",
     "text": [
      "Ultralytics YOLOv8.0.31  Python-3.8.10 torch-1.13.1+cu117 CUDA:0 (NVIDIA GeForce RTX 3060, 12287MiB)\n",
      "\n"
     ]
    },
    {
     "name": "stdout",
     "output_type": "stream",
     "text": [
      "(9458, 10090, 3)\n"
     ]
    },
    {
     "name": "stderr",
     "output_type": "stream",
     "text": [
      "image 1/1 F:\\Pedro\\Facul\\TCC\\Dataset\\RGB_3ch.png: 608x640 30.7ms\n",
      "Speed: 1.0ms pre-process, 30.7ms inference, 7.0ms postprocess per image at shape (1, 3, 640, 640)\n",
      "Results saved to \u001b[1mruns\\detect\\predict2\u001b[0m\n"
     ]
    }
   ],
   "source": [
    "from ultralytics import YOLO\n",
    "\n",
    "results = model('F:/Pedro/Facul/TCC/Dataset/RGB_3ch.png', save = True)  # predict on an image\n",
    "#success = model.export()  # export the model to Pytorch format\n",
    "#results = model.val(save =False)"
   ]
  }
 ],
 "metadata": {
  "kernelspec": {
   "display_name": "Python 3",
   "language": "python",
   "name": "python3"
  },
  "language_info": {
   "codemirror_mode": {
    "name": "ipython",
    "version": 3
   },
   "file_extension": ".py",
   "mimetype": "text/x-python",
   "name": "python",
   "nbconvert_exporter": "python",
   "pygments_lexer": "ipython3",
   "version": "3.8.10"
  },
  "orig_nbformat": 4
 },
 "nbformat": 4,
 "nbformat_minor": 2
}
